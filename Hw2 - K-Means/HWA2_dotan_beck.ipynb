{
 "cells": [
  {
   "cell_type": "markdown",
   "id": "f6f9ea67",
   "metadata": {},
   "source": [
    "# PART 1\n",
    "## Task 1 + 2"
   ]
  },
  {
   "cell_type": "code",
   "execution_count": 2,
   "id": "b22e9d71",
   "metadata": {},
   "outputs": [],
   "source": [
    "import scipy\n",
    "import numpy as np\n",
    "import matplotlib\n",
    "import pandas as pd\n",
    "\n",
    "\n",
    "from sklearn.cluster import KMeans\n",
    "from sklearn.metrics import silhouette_score\n",
    "import matplotlib.pyplot as plt"
   ]
  },
  {
   "cell_type": "code",
   "execution_count": 3,
   "id": "54ca3320",
   "metadata": {},
   "outputs": [],
   "source": [
    "input_file=\"google_reviews.csv\""
   ]
  },
  {
   "cell_type": "code",
   "execution_count": 4,
   "id": "4b0928c7",
   "metadata": {},
   "outputs": [],
   "source": [
    "def get_df(file):\n",
    "    dataset = pd.read_csv(file)\n",
    "    df = pd.DataFrame(dataset)\n",
    "    df=df.fillna(0)\n",
    "    return df\n",
    "df=get_df(input_file)"
   ]
  },
  {
   "cell_type": "markdown",
   "id": "44d00307",
   "metadata": {},
   "source": [
    "## Task 3"
   ]
  },
  {
   "cell_type": "code",
   "execution_count": 5,
   "id": "36add873",
   "metadata": {},
   "outputs": [
    {
     "name": "stdout",
     "output_type": "stream",
     "text": [
      "5. Cases = Raws: 5454\n",
      "6. Dimentions = Columns: 24\n"
     ]
    }
   ],
   "source": [
    "#cases = data points = every user = every line\n",
    "#dimentions = parameters = columns\n",
    "#therefore: \n",
    "\n",
    "def getSize(df):\n",
    "    print('5. Cases = Raws:',df.shape[0])\n",
    "    print('6. Dimentions = Columns:',df.shape[1])\n",
    "    \n",
    "    \n",
    "getSize(df)\n",
    "\n",
    "## 7.  each raw represents a user choices which will represent a data point "
   ]
  },
  {
   "cell_type": "markdown",
   "id": "b3d23c0b",
   "metadata": {},
   "source": [
    "7.every Raw in the table is a data point. meaning every data point is vercor with 24 values of 1 and zeros. "
   ]
  },
  {
   "cell_type": "markdown",
   "id": "fe802b7f",
   "metadata": {},
   "source": [
    "# PART 2\n",
    "## Task 4\n",
    "\n",
    "### question 8"
   ]
  },
  {
   "cell_type": "code",
   "execution_count": 73,
   "id": "6898435e",
   "metadata": {},
   "outputs": [],
   "source": [
    "distance_metric='euclidean'\n",
    "k_range = np.arange(2, 6, 1)"
   ]
  },
  {
   "cell_type": "code",
   "execution_count": 74,
   "id": "616d3f7f",
   "metadata": {},
   "outputs": [],
   "source": [
    "# Build model function\n",
    "def get_clusterer(points,k):\n",
    "    clusterer = KMeans (n_clusters=k)\n",
    "    preds = clusterer.fit_predict(points)\n",
    "    return clusterer,preds"
   ]
  },
  {
   "cell_type": "code",
   "execution_count": 75,
   "id": "adeda11a",
   "metadata": {},
   "outputs": [],
   "source": [
    "#bulding the model for each K in range 2 to 5. \n",
    "def get_silheuettes(df,preds):\n",
    "    Silhouettes = []\n",
    "    for k in k_range:\n",
    "        clusterer,preds=get_clusterer(df,k)\n",
    "        Silhouettes.append(silhouette_score (df, preds, metric='euclidean'))\n",
    "    return Silhouettes\n",
    "Silhouettes = get_silheuettes(df,preds)\n",
    "\n"
   ]
  },
  {
   "cell_type": "code",
   "execution_count": 123,
   "id": "f7146c0f",
   "metadata": {},
   "outputs": [
    {
     "data": {
      "image/png": "[encoded data removed]",
      "text/plain": [
       "<Figure size 432x288 with 1 Axes>"
      ]
     },
     "metadata": {
      "needs_background": "light"
     },
     "output_type": "display_data"
    }
   ],
   "source": [
    "# plot the silhouttes results. \n",
    "def show_silhouettes (Silhouettes):\n",
    "    plt.plot(k_range, Silhouettes, 'bx-')\n",
    "    plt.xlabel('k')\n",
    "    plt.ylabel('Silheuettes')\n",
    "    plt.title('Sillheuettes Vs, k')\n",
    "    plt.show()\n",
    "show_silhouettes(Silhouettes)\n",
    "\n"
   ]
  },
  {
   "cell_type": "markdown",
   "id": "cf327edb",
   "metadata": {},
   "source": [
    "#### therefor we can see that the best K is 4 becouse its gives the hightest silhouettes , we can still see that the silhouette is not verry high which migth say that every time we will creat the Kmeans seperation due to the random places we start with the allocation of some data points might change"
   ]
  },
  {
   "cell_type": "markdown",
   "id": "9dab213d",
   "metadata": {},
   "source": [
    "### question 9"
   ]
  },
  {
   "cell_type": "code",
   "execution_count": 116,
   "id": "312450d3",
   "metadata": {},
   "outputs": [],
   "source": [
    "\n",
    "# Build model for K=4\n",
    "K=4\n",
    "def get_clusterer(points,k):\n",
    "    clusterer = KMeans (n_clusters=k)\n",
    "    preds = clusterer.fit_predict(points)\n",
    "    return clusterer,preds\n",
    "clusterer,preds=get_clusterer(df,K)"
   ]
  },
  {
   "cell_type": "code",
   "execution_count": 115,
   "id": "e1ded18e",
   "metadata": {},
   "outputs": [
    {
     "name": "stdout",
     "output_type": "stream",
     "text": [
      "labels: [3 3 3 ... 2 2 2] \n",
      "\n"
     ]
    }
   ],
   "source": [
    "def show_labels_results (clusterer):\n",
    "    print('labels:', clusterer.labels_, '\\n') \n",
    "show_labels_results(clusterer)"
   ]
  },
  {
   "cell_type": "code",
   "execution_count": 109,
   "id": "6467b89d",
   "metadata": {},
   "outputs": [],
   "source": [
    "#### therefor becouse it printed for the results: labels: [3 3 3 ... 2 2 2] \n",
    "#### it means that the first 2 data points are in group 3 and the last 2 data points are in group 2"
   ]
  },
  {
   "cell_type": "code",
   "execution_count": 122,
   "id": "ca9879d7",
   "metadata": {},
   "outputs": [
    {
     "name": "stdout",
     "output_type": "stream",
     "text": [
      "centroids:\n",
      "0 : [0.11186186 0.28153153 0.25825826 0.16891892 0.02702703 0.01426426\n",
      " 0.09384384 0.01501502 0.13438438 0.05105105 0.01651652 0.00750751\n",
      " 0.01726727 0.06981982 0.28978979 0.15015015 0.14114114 0.12087087\n",
      " 0.23348348 0.22072072 0.1463964  0.35885886 0.22897898 0.20645646] \n",
      "\n",
      "1 : [0.02312139 0.13410405 0.04277457 0.0265896  0.10520231 0.13063584\n",
      " 0.53179191 0.06936416 0.33526012 0.31213873 0.36878613 0.45202312\n",
      " 0.65433526 0.97225434 0.67861272 0.09479769 0.06127168 0.05549133\n",
      " 0.07861272 0.08208092 0.00809249 0.02427746 0.00693642 0.0566474 ] \n",
      "\n",
      "2 : [0.00851582 0.18430657 0.09367397 0.1149635  0.23357664 0.5377129\n",
      " 0.91909976 0.85523114 0.96958637 0.77493917 0.48600973 0.08029197\n",
      " 0.12469586 0.17883212 0.29987835 0.04014599 0.00729927 0.00364964\n",
      " 0.00486618 0.02189781 0.00364964 0.09549878 0.04379562 0.01155718] \n",
      "\n",
      "3 : [9.91940484e-03 2.23806572e-01 4.02355859e-01 7.58214507e-01\n",
      " 9.69621823e-01 7.14197148e-01 5.87104774e-01 8.67947923e-02\n",
      " 1.64290143e-01 1.56230626e-01 1.90328580e-01 1.90328580e-01\n",
      " 1.54990701e-01 5.82765034e-02 7.43955363e-02 5.51766894e-02\n",
      " 1.23992560e-02 6.19962802e-04 1.05393676e-02 1.85988841e-02\n",
      " 3.16181029e-02 3.01301922e-01 2.04587725e-01 1.27092374e-01] \n",
      "\n"
     ]
    },
    {
     "data": {
      "image/png": "[encoded data removed]",
      "text/plain": [
       "<Figure size 432x288 with 1 Axes>"
      ]
     },
     "metadata": {
      "needs_background": "light"
     },
     "output_type": "display_data"
    }
   ],
   "source": [
    "def show_results (clusterer):\n",
    "    centers = clusterer.cluster_centers_\n",
    "    print('centroids:')\n",
    "    for i in range(K):\n",
    "        print(i,':',centers[i,:],'\\n')\n",
    "    for i in range(K):\n",
    "        plt.plot(centers[i,:])\n",
    "show_results(clusterer)"
   ]
  },
  {
   "cell_type": "markdown",
   "id": "b6044ea8",
   "metadata": {},
   "source": [
    "### question 10 - Result analysis: \n",
    "\n",
    "\n",
    "#### blue = cluster 0\n",
    "we can see that this cluster doesnt have a very high pick which means that there is not even one dimension (one category) tht most of the data points (people) in this cluster voted fore together. but the highhest pick in that graph is about dimention 21 (starts counting with 0) which 38% of the people signed 3 or above on it. \\\n",
    "\n",
    "\n",
    "\n",
    "#### orange = cluster 1\n",
    "we can se veryy big spike in this cluster in the 13th (starts from 0) columns where almost 100% of the people in the cluster voted more than 3 on this category. in addition we can see that category 12th got more than 64% present of the people in that cluster vote 3 or more and and 6th and 7th categories got as well 53% and 69% votes of 3 and above. \n",
    "\n",
    "which means that this people love  Malls (53% voted 3 or above), Restaurants(69% voted 3 or above), Art Galleries (99% voted 3 or above) and Juice Bars (64% voted 3 or above)\n",
    "\n",
    "\n",
    "\n",
    "#### green = cluster 2\n",
    "The everage grean loves 3 main things (raws 6-8) which are: Malls (91% from the people in the group voted 3 or above), Zoo (85% voted 3 or above) and resturants (96% voted 3 or above).\n",
    "in addition there is segnificant amount of people in that group that likes Museums (53% voted 3 or above) and Pubs/Bars (77% voted 3 or above)\n",
    "\n",
    "\n",
    "\n",
    "\n",
    "#### red = cluster 3\n",
    "The red graph have one high pick at column number 4 which is: Parks (96% of the people in that group voted 3 or above for that category) in addition we can also see that 75% of them like Beaches and 71% of them likes Theaters as well. \n",
    "\n",
    "\n",
    "\n"
   ]
  },
  {
   "cell_type": "code",
   "execution_count": null,
   "id": "3916da86",
   "metadata": {},
   "outputs": [],
   "source": []
  },
  {
   "cell_type": "code",
   "execution_count": null,
   "id": "a231019f",
   "metadata": {},
   "outputs": [],
   "source": []
  },
  {
   "cell_type": "code",
   "execution_count": null,
   "id": "3ab2a6cf",
   "metadata": {},
   "outputs": [],
   "source": []
  },
  {
   "cell_type": "code",
   "execution_count": null,
   "id": "3969d917",
   "metadata": {},
   "outputs": [],
   "source": []
  },
  {
   "cell_type": "code",
   "execution_count": null,
   "id": "44b489d3",
   "metadata": {},
   "outputs": [],
   "source": []
  },
  {
   "cell_type": "code",
   "execution_count": null,
   "id": "443a4de4",
   "metadata": {},
   "outputs": [],
   "source": []
  },
  {
   "cell_type": "code",
   "execution_count": null,
   "id": "efb55bfc",
   "metadata": {},
   "outputs": [],
   "source": []
  },
  {
   "cell_type": "code",
   "execution_count": null,
   "id": "8709fe29",
   "metadata": {},
   "outputs": [],
   "source": []
  },
  {
   "cell_type": "code",
   "execution_count": null,
   "id": "869f0eac",
   "metadata": {},
   "outputs": [],
   "source": []
  },
  {
   "cell_type": "code",
   "execution_count": null,
   "id": "5c51cb5a",
   "metadata": {},
   "outputs": [],
   "source": []
  },
  {
   "cell_type": "code",
   "execution_count": null,
   "id": "a23d0520",
   "metadata": {},
   "outputs": [],
   "source": []
  },
  {
   "cell_type": "code",
   "execution_count": null,
   "id": "4206a59f",
   "metadata": {},
   "outputs": [],
   "source": []
  },
  {
   "cell_type": "code",
   "execution_count": null,
   "id": "1667c219",
   "metadata": {},
   "outputs": [],
   "source": []
  },
  {
   "cell_type": "code",
   "execution_count": null,
   "id": "65f3f6f8",
   "metadata": {},
   "outputs": [],
   "source": []
  }
 ],
 "metadata": {
  "kernelspec": {
   "display_name": "Python 3 (ipykernel)",
   "language": "python",
   "name": "python3"
  },
  "language_info": {
   "codemirror_mode": {
    "name": "ipython",
    "version": 3
   },
   "file_extension": ".py",
   "mimetype": "text/x-python",
   "name": "python",
   "nbconvert_exporter": "python",
   "pygments_lexer": "ipython3",
   "version": "3.9.7"
  }
 },
 "nbformat": 4,
 "nbformat_minor": 5
}
