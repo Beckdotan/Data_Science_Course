{
 "cells": [
  {
   "cell_type": "markdown",
   "id": "9727624d",
   "metadata": {},
   "source": [
    "# HW1\n",
    "\n",
    "## part 1"
   ]
  },
  {
   "cell_type": "code",
   "execution_count": 2,
   "id": "1c76d283",
   "metadata": {},
   "outputs": [],
   "source": [
    "# 4. impoort\n",
    "\n",
    "import scipy\n",
    "import numpy as np\n",
    "import matplotlib\n",
    "import pandas as pd\n",
    "import os\n",
    "import math\n",
    "import seaborn\n",
    "import matplotlib.pyplot as plt\n",
    "import mpl_toolkits\n",
    "import mpl_toolkits.mplot3d"
   ]
  },
  {
   "cell_type": "code",
   "execution_count": 3,
   "id": "0d5f22a1",
   "metadata": {},
   "outputs": [],
   "source": [
    "# creting dats frae from file\n",
    "superstore_data_df = pd.read_csv('superstore_data.csv') # Read Excel shhet to data frame"
   ]
  },
  {
   "cell_type": "markdown",
   "id": "6f115b8b",
   "metadata": {},
   "source": [
    "## part 2"
   ]
  },
  {
   "cell_type": "markdown",
   "id": "f457d4d3",
   "metadata": {},
   "source": [
    "### TASK 3"
   ]
  },
  {
   "cell_type": "code",
   "execution_count": 4,
   "id": "1a544c39",
   "metadata": {},
   "outputs": [
    {
     "name": "stdout",
     "output_type": "stream",
     "text": [
      "Raws: 9994\n",
      "Columns: 21\n"
     ]
    }
   ],
   "source": [
    "# 5. How many rows and columns are in the data?\n",
    "def getSize(df):\n",
    "    print('Raws:',df.shape[0])\n",
    "    print('Columns:',df.shape[1])\n",
    "    \n",
    "    \n",
    "getSize(superstore_data_df)"
   ]
  },
  {
   "cell_type": "code",
   "execution_count": 5,
   "id": "f6b512fb",
   "metadata": {},
   "outputs": [
    {
     "name": "stdout",
     "output_type": "stream",
     "text": [
      "Office Supplies    2\n",
      "Furniture          2\n",
      "Name: Category, dtype: int64\n"
     ]
    }
   ],
   "source": [
    "# 6. What are the categories of products sold in transactions 2 till 5?\n",
    "\n",
    "def get_categories(df,calumn,start,finish):\n",
    "    print(df[calumn].loc[start:finish].value_counts())\n",
    "    \n",
    "get_categories(superstore_data_df,\"Category\",2,5)\n",
    "    \n"
   ]
  },
  {
   "cell_type": "code",
   "execution_count": 6,
   "id": "04afb639",
   "metadata": {},
   "outputs": [
    {
     "name": "stdout",
     "output_type": "stream",
     "text": [
      "4\n"
     ]
    }
   ],
   "source": [
    "# 7. How many types of Ship Mode there are?\n",
    "\n",
    "def get_amount_of_uniq_values(df,column):\n",
    "    print(len(pd.unique(df[column])))\n",
    "    \n",
    "get_amount_of_uniq_values(superstore_data_df,\"Ship Mode\")"
   ]
  },
  {
   "cell_type": "code",
   "execution_count": 7,
   "id": "74c19e8e",
   "metadata": {},
   "outputs": [
    {
     "name": "stdout",
     "output_type": "stream",
     "text": [
      "1847\n"
     ]
    }
   ],
   "source": [
    "# 8. How many transactions are categorized as Technology? \n",
    "\n",
    "def get_amount_of_raws_with_value(df,column, value):\n",
    "    print(df[df[column] == value].shape[0])\n",
    "    \n",
    "get_amount_of_raws_with_value(superstore_data_df, \"Category\", \"Technology\")"
   ]
  },
  {
   "cell_type": "code",
   "execution_count": 8,
   "id": "dfa29f3c",
   "metadata": {},
   "outputs": [
    {
     "name": "stdout",
     "output_type": "stream",
     "text": [
      "5579    9/9/17\n",
      "Name: Order Date, dtype: object\n"
     ]
    }
   ],
   "source": [
    "# 9. What was the order date of the latest transaction made?\n",
    "\n",
    "def sort_by_col_upper_to_lower(df, col):\n",
    "    df = df.sort_values([col],ascending = [False])\n",
    "    print(df[col].head(1))\n",
    "    \n",
    "sort_by_col_upper_to_lower(superstore_data_df,'Order Date')"
   ]
  },
  {
   "cell_type": "code",
   "execution_count": 9,
   "id": "52da2c06",
   "metadata": {},
   "outputs": [
    {
     "name": "stdout",
     "output_type": "stream",
     "text": [
      "8074    1/1/17\n",
      "Name: Order Date, dtype: object\n"
     ]
    }
   ],
   "source": [
    "# 10. What was the ship date of earliest transaction made?\n",
    "\n",
    "def sort_by_col_lower_to_upper(df, col):\n",
    "    df = df.sort_values([col],ascending = [True])\n",
    "    print(df[col].head(1))\n",
    "    \n",
    "sort_by_col_lower_to_upper(superstore_data_df, 'Order Date')"
   ]
  },
  {
   "cell_type": "code",
   "execution_count": 10,
   "id": "62c690b7",
   "metadata": {},
   "outputs": [
    {
     "name": "stdout",
     "output_type": "stream",
     "text": [
      "standar_dev  Quantity =  2.2251096911414274\n"
     ]
    }
   ],
   "source": [
    "# 11. What was the standard deviation of sales amount?\n",
    "\n",
    "def standart_dev(df, col):\n",
    "    df = df[col].describe();\n",
    "    print(\"standar_dev \", col , \"= \", df[2])\n",
    "    \n",
    "standart_dev(superstore_data_df, \"Quantity\")"
   ]
  },
  {
   "cell_type": "code",
   "execution_count": 11,
   "id": "e9b2acb3",
   "metadata": {},
   "outputs": [
    {
     "name": "stdout",
     "output_type": "stream",
     "text": [
      "4996    1\n",
      "Name: Quantity, dtype: int64\n"
     ]
    }
   ],
   "source": [
    "# 12. What was the lowest quantity sold?\n",
    "    \n",
    "sort_by_col_lower_to_upper(superstore_data_df,\"Quantity\")"
   ]
  },
  {
   "cell_type": "code",
   "execution_count": 12,
   "id": "e9b09b5d",
   "metadata": {},
   "outputs": [
    {
     "name": "stdout",
     "output_type": "stream",
     "text": [
      "8371    0.8\n",
      "Name: Discount, dtype: float64\n"
     ]
    }
   ],
   "source": [
    "# 13. What was the highest discount given?\n",
    "sort_by_col_upper_to_lower(superstore_data_df, \"Discount\")"
   ]
  },
  {
   "cell_type": "code",
   "execution_count": 13,
   "id": "6d5d579c",
   "metadata": {},
   "outputs": [
    {
     "name": "stdout",
     "output_type": "stream",
     "text": [
      "mean Profit =  28.656896307784802\n"
     ]
    }
   ],
   "source": [
    "# 14. What was the mean profit made?\n",
    "\n",
    "def get_col_mean(df, col):\n",
    "    df = df[col].describe();\n",
    "    print(\"mean\", col , \"= \", df[1])\n",
    "    \n",
    "get_col_mean(superstore_data_df, \"Profit\")"
   ]
  },
  {
   "cell_type": "code",
   "execution_count": 14,
   "id": "0e6957f4",
   "metadata": {},
   "outputs": [
    {
     "name": "stdout",
     "output_type": "stream",
     "text": [
      "mean Profit =  286397.0217\n"
     ]
    }
   ],
   "source": [
    "# 15. What was the total profit made?\n",
    "\n",
    "def get_col_sum(df, col):\n",
    "    df = df[col].sum();\n",
    "    print(\"mean\", col , \"= \", df)\n",
    "    \n",
    "get_col_sum(superstore_data_df, \"Profit\")"
   ]
  },
  {
   "cell_type": "code",
   "execution_count": 15,
   "id": "78778b8e",
   "metadata": {},
   "outputs": [
    {
     "name": "stdout",
     "output_type": "stream",
     "text": [
      "Sub-Category\n",
      "Accessories     775\n",
      "Appliances      466\n",
      "Art             796\n",
      "Binders        1523\n",
      "Bookcases       228\n",
      "Chairs          617\n",
      "Copiers          68\n",
      "Envelopes       254\n",
      "Fasteners       217\n",
      "Furnishings     957\n",
      "Labels          364\n",
      "Machines        115\n",
      "Paper          1370\n",
      "Phones          889\n",
      "Storage         846\n",
      "Supplies        190\n",
      "Tables          319\n",
      "Name: Quantity, dtype: int64\n"
     ]
    }
   ],
   "source": [
    "# 16. What was the number of transactions made in the sub-category Chairs?\n",
    "\n",
    "def count_of_col(df, col):\n",
    "    print(superstore_data_df.groupby([col]).count()['Quantity'])\n",
    "    \n",
    "    \n",
    "count_of_col(superstore_data_df,\"Sub-Category\" )\n",
    "\n"
   ]
  },
  {
   "cell_type": "code",
   "execution_count": 16,
   "id": "53227b1d",
   "metadata": {},
   "outputs": [
    {
     "name": "stdout",
     "output_type": "stream",
     "text": [
      "  Sub-Category  Quantity\n",
      "3      Binders      1523\n"
     ]
    }
   ],
   "source": [
    "#17. What was the most popular sub-category?\n",
    "\n",
    "def most_of_col(df, col):\n",
    "    df = df.groupby([col]).count()['Quantity'].reset_index(name='Quantity').sort_values(['Quantity'], ascending=False).head(1)\n",
    "    print (df)\n",
    "#list.sort_values(['Quantity'],ascending = [False])\n",
    "    \n",
    "    \n",
    "most_of_col(superstore_data_df,\"Sub-Category\")\n",
    "\n"
   ]
  },
  {
   "cell_type": "code",
   "execution_count": 17,
   "id": "0c7d04d9",
   "metadata": {},
   "outputs": [
    {
     "name": "stdout",
     "output_type": "stream",
     "text": [
      "  Sub-Category  Quantity\n",
      "6      Copiers        68\n"
     ]
    }
   ],
   "source": [
    "# 18. What was the least popular sub-category?\n",
    "\n",
    "#17. What was the most popular sub-category?\n",
    "\n",
    "def list_of_col(df, col):\n",
    "    df = df.groupby([col]).count()['Quantity'].reset_index(name='Quantity').sort_values(['Quantity'], ascending=True).head(1)\n",
    "    print (df)\n",
    "#list.sort_values(['Quantity'],ascending = [False])\n",
    "    \n",
    "    \n",
    "list_of_col(superstore_data_df,\"Sub-Category\")\n",
    "\n",
    "\n"
   ]
  },
  {
   "cell_type": "markdown",
   "id": "4b537ba4",
   "metadata": {},
   "source": [
    "### TASK 4"
   ]
  },
  {
   "cell_type": "markdown",
   "id": "0040ec00",
   "metadata": {},
   "source": [
    "#19. Using a Box & Whisker plot on the Quantity data, what represents the vertical line below the box, \n",
    "#the vertical line above the box and the vertical line which goes through the box?\n",
    "\n",
    "\n",
    "ANS ->\n",
    "1. The horizental line below the box showing the maximum value that we will want to concider (up to 1.5 times more than the width of the box itself - that its low line represent where 25% of the people under)\n",
    "\n",
    "2. The horizental line above the box showing the maximum value that we will want to concider (up to 1.5 times more than the width of the box itself - that its top represent where 75% of the people under)\n",
    "\n",
    "3. The  horizental line inside he box shows the mean of the column. which means that 50% of the values will be above it and 50% are below. "
   ]
  },
  {
   "cell_type": "code",
   "execution_count": 18,
   "id": "fe5f14ed",
   "metadata": {},
   "outputs": [
    {
     "name": "stdout",
     "output_type": "stream",
     "text": [
      "7 numbers statistics\n",
      "             Row ID   Postal Code         Sales     Quantity     Discount  \\\n",
      "count  9994.000000   9994.000000   9994.000000  9994.000000  9994.000000   \n",
      "mean   4997.500000  55190.379428    229.858001     3.789574     0.156203   \n",
      "std    2885.163629  32063.693350    623.245101     2.225110     0.206452   \n",
      "min       1.000000   1040.000000      0.444000     1.000000     0.000000   \n",
      "25%    2499.250000  23223.000000     17.280000     2.000000     0.000000   \n",
      "50%    4997.500000  56430.500000     54.490000     3.000000     0.200000   \n",
      "75%    7495.750000  90008.000000    209.940000     5.000000     0.200000   \n",
      "max    9994.000000  99301.000000  22638.480000    14.000000     0.800000   \n",
      "\n",
      "            Profit  \n",
      "count  9994.000000  \n",
      "mean     28.656896  \n",
      "std     234.260108  \n",
      "min   -6599.978000  \n",
      "25%       1.728750  \n",
      "50%       8.666500  \n",
      "75%      29.364000  \n",
      "max    8399.976000  \n",
      "How many Nans?\n",
      " Row ID           0\n",
      "Order ID         0\n",
      "Order Date       0\n",
      "Ship Date        0\n",
      "Ship Mode        0\n",
      "Customer ID      0\n",
      "Customer Name    0\n",
      "Segment          0\n",
      "Country          0\n",
      "City             0\n",
      "State            0\n",
      "Postal Code      0\n",
      "Region           0\n",
      "Product ID       0\n",
      "Category         0\n",
      "Sub-Category     0\n",
      "Product Name     0\n",
      "Sales            0\n",
      "Quantity         0\n",
      "Discount         0\n",
      "Profit           0\n",
      "dtype: int64\n",
      "Box and Whisker for selected columns\n",
      " AxesSubplot(0.125,0.125;0.775x0.755)\n"
     ]
    },
    {
     "data": {
      "image/png": "[encoded data removed]",
      "text/plain": [
       "<Figure size 432x288 with 1 Axes>"
      ]
     },
     "metadata": {
      "needs_background": "light"
     },
     "output_type": "display_data"
    }
   ],
   "source": [
    "#19. Using a Box & Whisker plot on the Quantity data, what represents the vertical line below the box, \n",
    "#the vertical line above the box and the vertical line which goes through the box?\n",
    "\n",
    "\n",
    "def plot_statistics(dataframe,selected_columns):\n",
    "    print('7 numbers statistics\\n',dataframe.describe())\n",
    "    print('How many Nans?\\n', dataframe.isna().sum() )\n",
    "    #print('Box and Whisker\\n',dataframe.boxplot())\n",
    "    print('Box and Whisker for selected columns\\n',dataframe.boxplot(column=selected_columns) ) \n",
    "    \n",
    "    \n",
    "plot_statistics(superstore_data_df,['Quantity', \"Discount\"])\n",
    "\n"
   ]
  },
  {
   "cell_type": "code",
   "execution_count": 19,
   "id": "dc206ace",
   "metadata": {},
   "outputs": [
    {
     "ename": "SyntaxError",
     "evalue": "invalid syntax (1860498866.py, line 5)",
     "output_type": "error",
     "traceback": [
      "\u001b[0;36m  File \u001b[0;32m\"/var/folders/hk/trvt3xwd40g0hh8f4t55l3540000gn/T/ipykernel_52732/1860498866.py\"\u001b[0;36m, line \u001b[0;32m5\u001b[0m\n\u001b[0;31m    NOT CLEAR\u001b[0m\n\u001b[0m        ^\u001b[0m\n\u001b[0;31mSyntaxError\u001b[0m\u001b[0;31m:\u001b[0m invalid syntax\n"
     ]
    }
   ],
   "source": [
    "#20. the line between the values 2 and 4 (shown on the Y-axis), and what's its value's?\n",
    "\n",
    "\n",
    "\n",
    "NOT CLEAR"
   ]
  },
  {
   "cell_type": "code",
   "execution_count": 20,
   "id": "bb49b55a",
   "metadata": {},
   "outputs": [
    {
     "data": {
      "image/png": "[encoded data removed]",
      "text/plain": [
       "<Figure size 432x288 with 1 Axes>"
      ]
     },
     "metadata": {
      "needs_background": "light"
     },
     "output_type": "display_data"
    }
   ],
   "source": [
    "#21. Using a Histogram:\n",
    "# a. What is the least popular ship mode? -> ANS: clearly Standart Class\n",
    "# b. What is the most popular ship mode? -> ANS: clearly Same Day. \n",
    "\n",
    "def plot_histogram(dataframe,col):\n",
    "        n_unique_categories = len(pd.unique(dataframe[col]))\n",
    "        plt.hist(dataframe[col], bins=n_unique_categories)\n",
    "        plt.xlabel(\"bins\")\n",
    "        plt.ylabel(\"counts\")\n",
    "        plt.title(col)\n",
    "plot_histogram(superstore_data_df,\"Ship Mode\")\n",
    "\n",
    "\n"
   ]
  },
  {
   "cell_type": "code",
   "execution_count": 25,
   "id": "ef15a413",
   "metadata": {},
   "outputs": [
    {
     "data": {
      "text/plain": [
       "<AxesSubplot:>"
      ]
     },
     "execution_count": 25,
     "metadata": {},
     "output_type": "execute_result"
    },
    {
     "data": {
      "image/png": "[encoded data removed]",
      "text/plain": [
       "<Figure size 432x288 with 1 Axes>"
      ]
     },
     "metadata": {
      "needs_background": "light"
     },
     "output_type": "display_data"
    }
   ],
   "source": [
    "# 22. Using a Bar chart, what is the name of the region in which the sales were the lowest?\n",
    "\n",
    "plot_list = superstore_data_df[\"Region\"].value_counts()\n",
    "plot_list.plot.bar()\n",
    "\n",
    "#ANS -> the south region have the list sales "
   ]
  },
  {
   "cell_type": "code",
   "execution_count": null,
   "id": "d334d6b8",
   "metadata": {},
   "outputs": [],
   "source": []
  },
  {
   "cell_type": "code",
   "execution_count": null,
   "id": "344a50f3",
   "metadata": {},
   "outputs": [],
   "source": []
  },
  {
   "cell_type": "code",
   "execution_count": null,
   "id": "620fc770-3715-451f-9be0-f3ac1aa85855",
   "metadata": {},
   "outputs": [],
   "source": []
  },
  {
   "cell_type": "code",
   "execution_count": null,
   "id": "00523017-5a16-4ab3-850b-fd5fec5c059f",
   "metadata": {},
   "outputs": [],
   "source": []
  }
 ],
 "metadata": {
  "kernelspec": {
   "display_name": "Python 3 (ipykernel)",
   "language": "python",
   "name": "python3"
  },
  "language_info": {
   "codemirror_mode": {
    "name": "ipython",
    "version": 3
   },
   "file_extension": ".py",
   "mimetype": "text/x-python",
   "name": "python",
   "nbconvert_exporter": "python",
   "pygments_lexer": "ipython3",
   "version": "3.9.7"
  }
 },
 "nbformat": 4,
 "nbformat_minor": 5
}
