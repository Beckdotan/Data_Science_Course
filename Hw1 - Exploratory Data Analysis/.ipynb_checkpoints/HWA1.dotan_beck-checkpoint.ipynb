{
 "cells": [
  {
   "cell_type": "markdown",
   "id": "9727624d",
   "metadata": {},
   "source": [
    "# HW1\n",
    "\n",
    "## part 1"
   ]
  },
  {
   "cell_type": "code",
   "execution_count": 34,
   "id": "1c76d283",
   "metadata": {},
   "outputs": [],
   "source": [
    "# 4. impoort\n",
    "\n",
    "import scipy\n",
    "import numpy as np\n",
    "import matplotlib\n",
    "import pandas as pd\n",
    "import os\n",
    "import math\n",
    "import seaborn\n",
    "import matplotlib.pyplot as plt\n",
    "import mpl_toolkits\n",
    "import mpl_toolkits.mplot3d"
   ]
  },
  {
   "cell_type": "code",
   "execution_count": 35,
   "id": "0d5f22a1",
   "metadata": {},
   "outputs": [],
   "source": [
    "# creting dats frae from file\n",
    "superstore_data_df = pd.read_csv('superstore_data.csv') # Read Excel shhet to data frame"
   ]
  },
  {
   "cell_type": "markdown",
   "id": "6f115b8b",
   "metadata": {},
   "source": [
    "## part 2"
   ]
  },
  {
   "cell_type": "markdown",
   "id": "f457d4d3",
   "metadata": {},
   "source": [
    "### TASK 3"
   ]
  },
  {
   "cell_type": "code",
   "execution_count": 36,
   "id": "1a544c39",
   "metadata": {},
   "outputs": [
    {
     "name": "stdout",
     "output_type": "stream",
     "text": [
      "Raws: 9994\n",
      "Columns: 21\n"
     ]
    }
   ],
   "source": [
    "# 5. How many rows and columns are in the data?\n",
    "def getSize(df):\n",
    "    print('Raws:',df.shape[0])\n",
    "    print('Columns:',df.shape[1])\n",
    "    \n",
    "    \n",
    "getSize(superstore_data_df)"
   ]
  },
  {
   "cell_type": "code",
   "execution_count": 54,
   "id": "f6b512fb",
   "metadata": {},
   "outputs": [
    {
     "name": "stdout",
     "output_type": "stream",
     "text": [
      "Office Supplies    2\n",
      "Furniture          2\n",
      "Name: Category, dtype: int64\n"
     ]
    }
   ],
   "source": [
    "# 6. What are the categories of products sold in transactions 2 till 5?\n",
    "\n",
    "def get_categories(df,calumn,start,finish):\n",
    "    print(df[calumn].loc[start:finish].value_counts())\n",
    "    \n",
    "get_categories(superstore_data_df,\"Category\",2,5)\n",
    "    \n"
   ]
  },
  {
   "cell_type": "code",
   "execution_count": 59,
   "id": "04afb639",
   "metadata": {},
   "outputs": [
    {
     "name": "stdout",
     "output_type": "stream",
     "text": [
      "4\n"
     ]
    }
   ],
   "source": [
    "# 7. How many types of Ship Mode there are?\n",
    "\n",
    "def get_amount_of_uniq_values(df,column):\n",
    "    print(len(pd.unique(df[column])))\n",
    "    \n",
    "get_amount_of_uniq_values(superstore_data_df,\"Ship Mode\")"
   ]
  },
  {
   "cell_type": "code",
   "execution_count": 62,
   "id": "74c19e8e",
   "metadata": {},
   "outputs": [
    {
     "name": "stdout",
     "output_type": "stream",
     "text": [
      "1847\n"
     ]
    }
   ],
   "source": [
    "# 8. How many transactions are categorized as Technology? \n",
    "\n",
    "def get_amount_of_raws_with_value(df,column, value):\n",
    "    print(df[df[column] == value].shape[0])\n",
    "    \n",
    "get_amount_of_raws_with_value(superstore_data_df, \"Category\", \"Technology\")"
   ]
  },
  {
   "cell_type": "code",
   "execution_count": 100,
   "id": "dfa29f3c",
   "metadata": {},
   "outputs": [
    {
     "name": "stdout",
     "output_type": "stream",
     "text": [
      "5579    9/9/17\n",
      "Name: Order Date, dtype: object\n"
     ]
    }
   ],
   "source": [
    "# 9. What was the order date of the latest transaction made?\n",
    "\n",
    "def sort_by_col_upper_to_lower(df, col):\n",
    "    df = df.sort_values([col],ascending = [False])\n",
    "    print(df[col].head(1))\n",
    "    \n",
    "sort_by_col_upper_to_lower(superstore_data_df,'Order Date')"
   ]
  },
  {
   "cell_type": "code",
   "execution_count": 95,
   "id": "52da2c06",
   "metadata": {},
   "outputs": [
    {
     "name": "stdout",
     "output_type": "stream",
     "text": [
      "8074    1/1/17\n",
      "Name: Order Date, dtype: object\n"
     ]
    }
   ],
   "source": [
    "# 10. What was the ship date of earliest transaction made?\n",
    "\n",
    "def sort_by_col_lower_to_upper(df, col):\n",
    "    df = df.sort_values([col],ascending = [True])\n",
    "    print(df[col].head(1))\n",
    "    \n",
    "sort_by_col_lower_to_upper(superstore_data_df, 'Order Date')"
   ]
  },
  {
   "cell_type": "code",
   "execution_count": 108,
   "id": "62c690b7",
   "metadata": {},
   "outputs": [
    {
     "name": "stdout",
     "output_type": "stream",
     "text": [
      "standar_dev  Quantity =  2.2251096911414274\n"
     ]
    }
   ],
   "source": [
    "# 11. What was the standard deviation of sales amount?\n",
    "\n",
    "def standart_dev(df, col):\n",
    "    df = df[col].describe();\n",
    "    print(\"standar_dev \", col , \"= \", df[2])\n",
    "    \n",
    "standart_dev(superstore_data_df, \"Quantity\")"
   ]
  },
  {
   "cell_type": "code",
   "execution_count": 109,
   "id": "e9b2acb3",
   "metadata": {},
   "outputs": [
    {
     "name": "stdout",
     "output_type": "stream",
     "text": [
      "4996    1\n",
      "Name: Quantity, dtype: int64\n"
     ]
    }
   ],
   "source": [
    "# 12. What was the lowest quantity sold?\n",
    "    \n",
    "sort_by_col_lower_to_upper(superstore_data_df,\"Quantity\")"
   ]
  },
  {
   "cell_type": "code",
   "execution_count": 110,
   "id": "e9b09b5d",
   "metadata": {},
   "outputs": [
    {
     "name": "stdout",
     "output_type": "stream",
     "text": [
      "8371    0.8\n",
      "Name: Discount, dtype: float64\n"
     ]
    }
   ],
   "source": [
    "# 13. What was the highest discount given?\n",
    "sort_by_col_upper_to_lower(superstore_data_df, \"Discount\")"
   ]
  },
  {
   "cell_type": "code",
   "execution_count": 116,
   "id": "6d5d579c",
   "metadata": {},
   "outputs": [
    {
     "name": "stdout",
     "output_type": "stream",
     "text": [
      "mean Profit =  28.656896307784802\n"
     ]
    }
   ],
   "source": [
    "# 14. What was the mean profit made?\n",
    "\n",
    "def get_col_mean(df, col):\n",
    "    df = df[col].describe();\n",
    "    print(\"mean\", col , \"= \", df[1])\n",
    "    \n",
    "get_col_mean(superstore_data_df, \"Profit\")"
   ]
  },
  {
   "cell_type": "code",
   "execution_count": 115,
   "id": "0e6957f4",
   "metadata": {},
   "outputs": [
    {
     "name": "stdout",
     "output_type": "stream",
     "text": [
      "mean Profit =  286397.0217\n"
     ]
    }
   ],
   "source": [
    "# 15. What was the total profit made?\n",
    "\n",
    "def get_col_sum(df, col):\n",
    "    df = df[col].sum();\n",
    "    print(\"mean\", col , \"= \", df)\n",
    "    \n",
    "get_col_sum(superstore_data_df, \"Profit\")"
   ]
  },
  {
   "cell_type": "code",
   "execution_count": 119,
   "id": "78778b8e",
   "metadata": {},
   "outputs": [
    {
     "name": "stdout",
     "output_type": "stream",
     "text": [
      "Sub-Category\n",
      "Accessories     775\n",
      "Appliances      466\n",
      "Art             796\n",
      "Binders        1523\n",
      "Bookcases       228\n",
      "Chairs          617\n",
      "Copiers          68\n",
      "Envelopes       254\n",
      "Fasteners       217\n",
      "Furnishings     957\n",
      "Labels          364\n",
      "Machines        115\n",
      "Paper          1370\n",
      "Phones          889\n",
      "Storage         846\n",
      "Supplies        190\n",
      "Tables          319\n",
      "Name: Quantity, dtype: int64\n"
     ]
    }
   ],
   "source": [
    "# 16. What was the number of transactions made in the sub-category Chairs?\n",
    "\n",
    "def count_of_col(df, col):\n",
    "    print(superstore_data_df.groupby([col]).count()['Quantity'])\n",
    "    \n",
    "    \n",
    "count_of_col(superstore_data_df,\"Sub-Category\" )\n",
    "\n"
   ]
  },
  {
   "cell_type": "code",
   "execution_count": 140,
   "id": "53227b1d",
   "metadata": {},
   "outputs": [
    {
     "name": "stdout",
     "output_type": "stream",
     "text": [
      "  Sub-Category  Quantity\n",
      "3      Binders      1523\n"
     ]
    }
   ],
   "source": [
    "#17. What was the most popular sub-category?\n",
    "\n",
    "def most_of_col(df, col):\n",
    "    df = df.groupby([col]).count()['Quantity'].reset_index(name='Quantity').sort_values(['Quantity'], ascending=False).head(1)\n",
    "    print (df)\n",
    "#list.sort_values(['Quantity'],ascending = [False])\n",
    "    \n",
    "    \n",
    "most_of_col(superstore_data_df,\"Sub-Category\")\n",
    "\n"
   ]
  },
  {
   "cell_type": "code",
   "execution_count": 142,
   "id": "0c7d04d9",
   "metadata": {},
   "outputs": [
    {
     "name": "stdout",
     "output_type": "stream",
     "text": [
      "  Sub-Category  Quantity\n",
      "6      Copiers        68\n"
     ]
    }
   ],
   "source": [
    "# 18. What was the least popular sub-category?\n",
    "\n",
    "#17. What was the most popular sub-category?\n",
    "\n",
    "def list_of_col(df, col):\n",
    "    df = df.groupby([col]).count()['Quantity'].reset_index(name='Quantity').sort_values(['Quantity'], ascending=True).head(1)\n",
    "    print (df)\n",
    "#list.sort_values(['Quantity'],ascending = [False])\n",
    "    \n",
    "    \n",
    "list_of_col(superstore_data_df,\"Sub-Category\")\n",
    "\n",
    "\n"
   ]
  },
  {
   "cell_type": "markdown",
   "id": "4b537ba4",
   "metadata": {},
   "source": [
    "### TASK 4"
   ]
  },
  {
   "cell_type": "code",
   "execution_count": null,
   "id": "fe5f14ed",
   "metadata": {},
   "outputs": [],
   "source": []
  }
 ],
 "metadata": {
  "kernelspec": {
   "display_name": "Python 3 (ipykernel)",
   "language": "python",
   "name": "python3"
  },
  "language_info": {
   "codemirror_mode": {
    "name": "ipython",
    "version": 3
   },
   "file_extension": ".py",
   "mimetype": "text/x-python",
   "name": "python",
   "nbconvert_exporter": "python",
   "pygments_lexer": "ipython3",
   "version": "3.9.7"
  }
 },
 "nbformat": 4,
 "nbformat_minor": 5
}
